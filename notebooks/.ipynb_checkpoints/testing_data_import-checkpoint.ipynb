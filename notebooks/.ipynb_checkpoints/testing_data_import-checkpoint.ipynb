{
 "cells": [
  {
   "cell_type": "code",
   "execution_count": 1,
   "metadata": {},
   "outputs": [],
   "source": [
    "import pandas as pd\n",
    "import os"
   ]
  },
  {
   "cell_type": "markdown",
   "metadata": {},
   "source": [
    "## Read in data from Google BQ"
   ]
  },
  {
   "cell_type": "code",
   "execution_count": 4,
   "metadata": {},
   "outputs": [],
   "source": [
    "# Query to grab Desired data: (Already partitioned a million rows into a table on google cloud)\n",
    "project_id = 'spark-taxis'\n",
    "dataset = 'Taxis'\n",
    "table = 'taxis_sample_2015'\n",
    "dialect  = 'standard'\n",
    "creds = os.environ['SPARK_TAXIS_KEY']\n",
    "\n",
    "q = f'SELECT * FROM `{dataset}.{table}`'\n",
    "\n",
    "df = pd.read_gbq(\n",
    "    query=q, \n",
    "    project_id=project_id, \n",
    "    private_key=creds, \n",
    "    dialect=dialect)"
   ]
  },
  {
   "cell_type": "code",
   "execution_count": 5,
   "metadata": {},
   "outputs": [],
   "source": [
    "# write to csv\n",
    "df.to_csv('../data/taxis_sample.csv')"
   ]
  },
  {
   "cell_type": "code",
   "execution_count": 6,
   "metadata": {},
   "outputs": [
    {
     "data": {
      "text/plain": [
       "(1000000, 19)"
      ]
     },
     "execution_count": 6,
     "metadata": {},
     "output_type": "execute_result"
    }
   ],
   "source": [
    "df.shape"
   ]
  },
  {
   "cell_type": "code",
   "execution_count": 7,
   "metadata": {},
   "outputs": [
    {
     "data": {
      "text/html": [
       "<div>\n",
       "<style scoped>\n",
       "    .dataframe tbody tr th:only-of-type {\n",
       "        vertical-align: middle;\n",
       "    }\n",
       "\n",
       "    .dataframe tbody tr th {\n",
       "        vertical-align: top;\n",
       "    }\n",
       "\n",
       "    .dataframe thead th {\n",
       "        text-align: right;\n",
       "    }\n",
       "</style>\n",
       "<table border=\"1\" class=\"dataframe\">\n",
       "  <thead>\n",
       "    <tr style=\"text-align: right;\">\n",
       "      <th></th>\n",
       "      <th>vendor_id</th>\n",
       "      <th>pickup_datetime</th>\n",
       "      <th>dropoff_datetime</th>\n",
       "      <th>pickup_longitude</th>\n",
       "      <th>pickup_latitude</th>\n",
       "      <th>dropoff_longitude</th>\n",
       "      <th>dropoff_latitude</th>\n",
       "      <th>rate_code</th>\n",
       "      <th>passenger_count</th>\n",
       "      <th>trip_distance</th>\n",
       "      <th>payment_type</th>\n",
       "      <th>fare_amount</th>\n",
       "      <th>extra</th>\n",
       "      <th>mta_tax</th>\n",
       "      <th>imp_surcharge</th>\n",
       "      <th>tip_amount</th>\n",
       "      <th>tolls_amount</th>\n",
       "      <th>total_amount</th>\n",
       "      <th>store_and_fwd_flag</th>\n",
       "    </tr>\n",
       "  </thead>\n",
       "  <tbody>\n",
       "    <tr>\n",
       "      <th>0</th>\n",
       "      <td>VTS</td>\n",
       "      <td>2015-01-15 06:16:22</td>\n",
       "      <td>2015-01-15 06:55:23</td>\n",
       "      <td>-73.988510</td>\n",
       "      <td>40.746101</td>\n",
       "      <td>-74.177292</td>\n",
       "      <td>40.695190</td>\n",
       "      <td>3</td>\n",
       "      <td>1</td>\n",
       "      <td>19.94</td>\n",
       "      <td>CSH</td>\n",
       "      <td>0.0</td>\n",
       "      <td>0.0</td>\n",
       "      <td>0.0</td>\n",
       "      <td>0.3</td>\n",
       "      <td>0.0</td>\n",
       "      <td>15.35</td>\n",
       "      <td>0.0</td>\n",
       "      <td>N</td>\n",
       "    </tr>\n",
       "    <tr>\n",
       "      <th>1</th>\n",
       "      <td>VTS</td>\n",
       "      <td>2015-02-18 13:16:54</td>\n",
       "      <td>2015-02-18 13:25:58</td>\n",
       "      <td>-73.969757</td>\n",
       "      <td>40.758541</td>\n",
       "      <td>-73.950272</td>\n",
       "      <td>40.768768</td>\n",
       "      <td>1</td>\n",
       "      <td>1</td>\n",
       "      <td>1.59</td>\n",
       "      <td>CSH</td>\n",
       "      <td>0.0</td>\n",
       "      <td>0.0</td>\n",
       "      <td>0.5</td>\n",
       "      <td>0.3</td>\n",
       "      <td>0.0</td>\n",
       "      <td>0.00</td>\n",
       "      <td>0.0</td>\n",
       "      <td>N</td>\n",
       "    </tr>\n",
       "    <tr>\n",
       "      <th>2</th>\n",
       "      <td>VTS</td>\n",
       "      <td>2015-05-10 05:08:19</td>\n",
       "      <td>2015-05-10 05:14:48</td>\n",
       "      <td>0.000000</td>\n",
       "      <td>0.000000</td>\n",
       "      <td>0.000000</td>\n",
       "      <td>0.000000</td>\n",
       "      <td>5</td>\n",
       "      <td>2</td>\n",
       "      <td>0.18</td>\n",
       "      <td>CSH</td>\n",
       "      <td>0.0</td>\n",
       "      <td>0.0</td>\n",
       "      <td>0.0</td>\n",
       "      <td>0.0</td>\n",
       "      <td>0.0</td>\n",
       "      <td>0.00</td>\n",
       "      <td>0.0</td>\n",
       "      <td>N</td>\n",
       "    </tr>\n",
       "    <tr>\n",
       "      <th>3</th>\n",
       "      <td>VTS</td>\n",
       "      <td>2015-03-08 03:54:38</td>\n",
       "      <td>2015-03-08 03:56:14</td>\n",
       "      <td>-73.937553</td>\n",
       "      <td>40.758358</td>\n",
       "      <td>-73.937660</td>\n",
       "      <td>40.758286</td>\n",
       "      <td>1</td>\n",
       "      <td>1</td>\n",
       "      <td>0.01</td>\n",
       "      <td>CRD</td>\n",
       "      <td>0.0</td>\n",
       "      <td>0.0</td>\n",
       "      <td>0.0</td>\n",
       "      <td>0.3</td>\n",
       "      <td>0.0</td>\n",
       "      <td>0.00</td>\n",
       "      <td>0.0</td>\n",
       "      <td>N</td>\n",
       "    </tr>\n",
       "    <tr>\n",
       "      <th>4</th>\n",
       "      <td>VTS</td>\n",
       "      <td>2015-01-28 07:48:02</td>\n",
       "      <td>2015-01-28 07:54:18</td>\n",
       "      <td>-73.786201</td>\n",
       "      <td>40.643463</td>\n",
       "      <td>-73.786339</td>\n",
       "      <td>40.641830</td>\n",
       "      <td>2</td>\n",
       "      <td>1</td>\n",
       "      <td>3.96</td>\n",
       "      <td>CSH</td>\n",
       "      <td>0.0</td>\n",
       "      <td>0.0</td>\n",
       "      <td>0.5</td>\n",
       "      <td>0.3</td>\n",
       "      <td>0.0</td>\n",
       "      <td>0.00</td>\n",
       "      <td>0.0</td>\n",
       "      <td>N</td>\n",
       "    </tr>\n",
       "  </tbody>\n",
       "</table>\n",
       "</div>"
      ],
      "text/plain": [
       "  vendor_id     pickup_datetime    dropoff_datetime  pickup_longitude  \\\n",
       "0       VTS 2015-01-15 06:16:22 2015-01-15 06:55:23        -73.988510   \n",
       "1       VTS 2015-02-18 13:16:54 2015-02-18 13:25:58        -73.969757   \n",
       "2       VTS 2015-05-10 05:08:19 2015-05-10 05:14:48          0.000000   \n",
       "3       VTS 2015-03-08 03:54:38 2015-03-08 03:56:14        -73.937553   \n",
       "4       VTS 2015-01-28 07:48:02 2015-01-28 07:54:18        -73.786201   \n",
       "\n",
       "   pickup_latitude  dropoff_longitude  dropoff_latitude rate_code  \\\n",
       "0        40.746101         -74.177292         40.695190         3   \n",
       "1        40.758541         -73.950272         40.768768         1   \n",
       "2         0.000000           0.000000          0.000000         5   \n",
       "3        40.758358         -73.937660         40.758286         1   \n",
       "4        40.643463         -73.786339         40.641830         2   \n",
       "\n",
       "   passenger_count  trip_distance payment_type  fare_amount  extra  mta_tax  \\\n",
       "0                1          19.94          CSH          0.0    0.0      0.0   \n",
       "1                1           1.59          CSH          0.0    0.0      0.5   \n",
       "2                2           0.18          CSH          0.0    0.0      0.0   \n",
       "3                1           0.01          CRD          0.0    0.0      0.0   \n",
       "4                1           3.96          CSH          0.0    0.0      0.5   \n",
       "\n",
       "   imp_surcharge  tip_amount  tolls_amount  total_amount store_and_fwd_flag  \n",
       "0            0.3         0.0         15.35           0.0                  N  \n",
       "1            0.3         0.0          0.00           0.0                  N  \n",
       "2            0.0         0.0          0.00           0.0                  N  \n",
       "3            0.3         0.0          0.00           0.0                  N  \n",
       "4            0.3         0.0          0.00           0.0                  N  "
      ]
     },
     "execution_count": 7,
     "metadata": {},
     "output_type": "execute_result"
    }
   ],
   "source": [
    "df.head()"
   ]
  },
  {
   "cell_type": "code",
   "execution_count": 2,
   "metadata": {},
   "outputs": [],
   "source": [
    "df = pd.read_csv('../data/10_rides.csv', index_col=0, parse_dates=[2,3])"
   ]
  },
  {
   "cell_type": "code",
   "execution_count": 6,
   "metadata": {},
   "outputs": [
    {
     "data": {
      "text/plain": [
       "'{\"columns\":[\"vendor_id\",\"pickup_datetime\",\"dropoff_datetime\",\"pickup_longitude\",\"pickup_latitude\",\"dropoff_longitude\",\"dropoff_latitude\",\"rate_code\",\"passenger_count\",\"trip_distance\",\"payment_type\",\"fare_amount\",\"extra\",\"mta_tax\",\"imp_surcharge\",\"tip_amount\",\"tolls_amount\",\"total_amount\",\"store_and_fwd_flag\"],\"index\":[0,1,2,3,4,5,6,7,8,9],\"data\":[[\"VTS\",1421302582000,1421304923000,-73.9885101318,40.7461013794,-74.1772918701,40.6951904297,3,1,19.94,\"CSH\",0.0,0.0,0.0,0.3,0.0,15.35,0.0,\"N\"],[\"VTS\",1424265414000,1424265958000,-73.9697570801,40.7585411072,-73.9502716064,40.7687683105,1,1,1.59,\"CSH\",0.0,0.0,0.5,0.3,0.0,0.0,0.0,\"N\"],[\"VTS\",1431234499000,1431234888000,0.0,0.0,0.0,0.0,5,2,0.18,\"CSH\",0.0,0.0,0.0,0.0,0.0,0.0,0.0,\"N\"],[\"VTS\",1425786878000,1425786974000,-73.9375534058,40.7583580017,-73.9376602173,40.7582855225,1,1,0.01,\"CRD\",0.0,0.0,0.0,0.3,0.0,0.0,0.0,\"N\"],[\"VTS\",1422431282000,1422431658000,-73.7862014771,40.6434631348,-73.7863388062,40.6418304443,2,1,3.96,\"CSH\",0.0,0.0,0.5,0.3,0.0,0.0,0.0,\"N\"],[\"VTS\",1432581055000,1432583356000,-73.7898406982,40.6436233521,-73.9644317627,40.7546920776,2,2,17.99,\"CSH\",0.0,0.0,0.0,0.0,0.0,0.0,0.0,\"N\"],[\"VTS\",1425792241000,1425793173000,-73.972694397,40.7485656738,-73.9948883057,40.7602767944,1,2,4.5,\"CSH\",0.0,0.0,0.5,0.3,0.0,0.0,0.0,\"N\"],[\"CMT\",1428912889000,1428913835000,-73.9515380859,40.7692375183,-73.9763870239,40.7510299683,1,1,0.2,\"CRD\",0.0,0.0,0.0,0.0,0.0,0.0,0.0,\"N\"],[\"VTS\",1420982913000,1420982916000,0.0,0.0,0.0,0.0,2,1,0.01,\"CSH\",0.0,0.0,0.5,0.3,0.0,0.0,0.0,\"N\"],[\"VTS\",1426840489000,1426840496000,-73.9575195312,40.8162193298,-73.959487915,40.8171081543,1,5,0.09,\"CSH\",0.0,0.0,0.0,0.3,0.0,0.0,0.0,\"N\"]]}'"
      ]
     },
     "execution_count": 6,
     "metadata": {},
     "output_type": "execute_result"
    }
   ],
   "source": [
    "df.to_json(orient='records')"
   ]
  },
  {
   "cell_type": "code",
   "execution_count": null,
   "metadata": {},
   "outputs": [],
   "source": []
  }
 ],
 "metadata": {
  "kernelspec": {
   "display_name": "Python 3",
   "language": "python",
   "name": "python3"
  },
  "language_info": {
   "codemirror_mode": {
    "name": "ipython",
    "version": 3
   },
   "file_extension": ".py",
   "mimetype": "text/x-python",
   "name": "python",
   "nbconvert_exporter": "python",
   "pygments_lexer": "ipython3",
   "version": "3.6.5"
  }
 },
 "nbformat": 4,
 "nbformat_minor": 2
}
